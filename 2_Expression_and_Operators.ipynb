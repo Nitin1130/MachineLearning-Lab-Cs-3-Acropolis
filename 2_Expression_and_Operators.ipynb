{
  "nbformat": 4,
  "nbformat_minor": 0,
  "metadata": {
    "kernelspec": {
      "name": "python3",
      "display_name": "Python 3",
      "language": "python"
    },
    "language_info": {
      "mimetype": "text/x-python",
      "nbconvert_exporter": "python",
      "name": "python",
      "pygments_lexer": "ipython3",
      "version": "3.5.4",
      "file_extension": ".py",
      "codemirror_mode": {
        "version": 3,
        "name": "ipython"
      }
    },
    "colab": {
      "name": "2. Expression and Operators.ipynb",
      "provenance": [],
      "collapsed_sections": []
    }
  },
  "cells": [
    {
      "cell_type": "markdown",
      "metadata": {
        "heading_collapsed": true,
        "id": "n_VDg1RwuChB",
        "colab_type": "text"
      },
      "source": [
        "# Expressions, Operators, Control statements"
      ]
    },
    {
      "cell_type": "code",
      "metadata": {
        "id": "Rc6gK_TEv2QF",
        "colab_type": "code",
        "colab": {}
      },
      "source": [
        ""
      ],
      "execution_count": 0,
      "outputs": []
    },
    {
      "cell_type": "markdown",
      "metadata": {
        "id": "6Cw_bQCzuChF",
        "colab_type": "text"
      },
      "source": [
        "# Operators\n",
        "- Arithmetic (+, -, *, /, //, %)\n",
        "- Relational (<, >, <=, >=, !=, ==)\n",
        "- Shift (>>, <<)\n",
        "- Assignment (=)\n",
        "- Logical (and, or, not)\n",
        "- Bitwise (&, |, !)\n",
        "- 'in' and 'not in' operator\n"
      ]
    },
    {
      "cell_type": "markdown",
      "metadata": {
        "id": "FEu90oEtuChG",
        "colab_type": "raw"
      },
      "source": [
        "# << and >>\n",
        "\n",
        "if n=8 (1000 in binary), n>>1 will give 100 after shifting bits by 1 place to right. \n",
        "                         n<<1 will give 10000 after shifting bits by 1 place to left."
      ]
    },
    {
      "cell_type": "code",
      "metadata": {
        "trusted": false,
        "id": "7v33-5nguChI",
        "colab_type": "code",
        "outputId": "d2251063-b229-41d9-d517-f5ce15b1f066",
        "colab": {
          "base_uri": "https://localhost:8080/",
          "height": 68
        }
      },
      "source": [
        "n=9\n",
        "print(n,'binary',format(n,'b'))\n",
        "print(n,'* 2=',n<<1, format(n<<1,'b'))\n",
        "print(n,'/ 2=',n>>1,format(n>>1,'b'))"
      ],
      "execution_count": 1,
      "outputs": [
        {
          "output_type": "stream",
          "text": [
            "9 binary 1001\n",
            "9 * 2= 18 10010\n",
            "9 / 2= 4 100\n"
          ],
          "name": "stdout"
        }
      ]
    },
    {
      "cell_type": "code",
      "metadata": {
        "trusted": false,
        "id": "2QV1wgNYuChQ",
        "colab_type": "code",
        "outputId": "8b2af52f-0ddf-4acc-c2a5-4c8a01313b80",
        "colab": {
          "base_uri": "https://localhost:8080/",
          "height": 68
        }
      },
      "source": [
        "# logical\n",
        "x = True\n",
        "y = False\n",
        "print('x and y is',x and y) # Output: x and y is False\n",
        "print('x or y is',x or y) # Output: x or y is True\n",
        "print('not x is',not x) # Output: not x is False"
      ],
      "execution_count": 2,
      "outputs": [
        {
          "output_type": "stream",
          "text": [
            "x and y is False\n",
            "x or y is True\n",
            "not x is False\n"
          ],
          "name": "stdout"
        }
      ]
    },
    {
      "cell_type": "code",
      "metadata": {
        "trusted": false,
        "id": "Az6UaXmPuChV",
        "colab_type": "code",
        "outputId": "ee6ec598-2198-4551-d588-d58c0b2049aa",
        "colab": {
          "base_uri": "https://localhost:8080/",
          "height": 68
        }
      },
      "source": [
        "# bitwise\n",
        "x=12 \n",
        "y=4\n",
        "print(x & y) \n",
        "print(x | y)\n",
        "print(x ^ y)"
      ],
      "execution_count": 0,
      "outputs": [
        {
          "output_type": "stream",
          "text": [
            "4\n",
            "12\n",
            "8\n"
          ],
          "name": "stdout"
        }
      ]
    },
    {
      "cell_type": "code",
      "metadata": {
        "trusted": false,
        "id": "fHdeM7hKuCha",
        "colab_type": "code",
        "outputId": "9861e9cf-5f42-411c-dfc3-5168150070e1",
        "colab": {
          "base_uri": "https://localhost:8080/",
          "height": 51
        }
      },
      "source": [
        "# in and not in\n",
        "\n",
        "x = 'Hello world'\n",
        "print('H' in x)    # Output: True\n",
        "print('h' not in x)   # Output: True"
      ],
      "execution_count": 0,
      "outputs": [
        {
          "output_type": "stream",
          "text": [
            "True\n",
            "True\n"
          ],
          "name": "stdout"
        }
      ]
    },
    {
      "cell_type": "code",
      "metadata": {
        "trusted": false,
        "id": "SD083I1euChe",
        "colab_type": "code",
        "outputId": "1f3841e2-4fe3-4bba-fb6c-6da06d300933",
        "colab": {
          "base_uri": "https://localhost:8080/",
          "height": 85
        }
      },
      "source": [
        "# perform operations on complex numbers\n",
        "\n",
        "import cmath\n",
        "a=complex(20+5j)\n",
        "b=complex(5+3j)\n",
        "print('a+b',a+b)\n",
        "print('a-b',a-b)\n",
        "print('a*b',a*b)\n",
        "print('a/b',a/b)"
      ],
      "execution_count": 0,
      "outputs": [
        {
          "output_type": "stream",
          "text": [
            "a+b (25+8j)\n",
            "a-b (15+2j)\n",
            "a*b (85+85j)\n",
            "a/b (3.3823529411764706-1.0294117647058825j)\n"
          ],
          "name": "stdout"
        }
      ]
    },
    {
      "cell_type": "code",
      "metadata": {
        "id": "vvnJBOLewPRn",
        "colab_type": "code",
        "colab": {}
      },
      "source": [
        ""
      ],
      "execution_count": 0,
      "outputs": []
    },
    {
      "cell_type": "markdown",
      "metadata": {
        "id": "Ks4llkCxuChj",
        "colab_type": "text"
      },
      "source": [
        "### Task1 Write a program in python to calculate area of triangle when all three sides are given.\n",
        "- s=(a+b+c)/2\n",
        "- area =  √(s(s-a)(s-b)(s-c) )"
      ]
    },
    {
      "cell_type": "code",
      "metadata": {
        "trusted": false,
        "id": "WulnhHhpuChl",
        "colab_type": "code",
        "outputId": "aef4701b-c27a-4951-db64-0326b1d550d1",
        "colab": {
          "base_uri": "https://localhost:8080/",
          "height": 85
        }
      },
      "source": [
        "# write your code after this line\n",
        "import math\n",
        "length=int(input(\"Enter lenght of triangle\"))\n",
        "breadth=int(input(\"Enter Breadth of triangle\"))\n",
        "height=int(input(\"Enter height of triangle\"))\n",
        "s=(length+breadth+height)/2\n",
        "area=(s*(s-height)*(s-length)*(s-breadth))\n",
        "m=abs(area)\n",
        "areaf=math.sqrt(m)\n",
        "print(areaf)"
      ],
      "execution_count": 3,
      "outputs": [
        {
          "output_type": "stream",
          "text": [
            "Enter lenght of triangle8\n",
            "Enter Breadth of triangle4\n",
            "Enter height of triangle6\n",
            "11.61895003862225\n"
          ],
          "name": "stdout"
        }
      ]
    },
    {
      "cell_type": "markdown",
      "metadata": {
        "id": "J-WVeW51uChr",
        "colab_type": "text"
      },
      "source": [
        "# Control Statements"
      ]
    },
    {
      "cell_type": "markdown",
      "metadata": {
        "id": "OsmF1j5wuChs",
        "colab_type": "text"
      },
      "source": [
        "### Decisions (if-else)"
      ]
    },
    {
      "cell_type": "markdown",
      "metadata": {
        "id": "f48xY3pmuChu",
        "colab_type": "raw"
      },
      "source": [
        "# simple if-else\n",
        "if(cond):\n",
        "    stmt\n",
        "else:\n",
        "    stmt"
      ]
    },
    {
      "cell_type": "markdown",
      "metadata": {
        "id": "fL6cU4vTuChv",
        "colab_type": "raw"
      },
      "source": [
        "# if-else-if\n",
        "if(cond):\n",
        "    stmt\n",
        "elif(cond):\n",
        "    stmt\n",
        "    .\n",
        "    .\n",
        "    .\n",
        "else: \n",
        "    stmt"
      ]
    },
    {
      "cell_type": "markdown",
      "metadata": {
        "id": "qDbMSLPWuChx",
        "colab_type": "raw"
      },
      "source": [
        "# nested if-else\n",
        "                            if(cond):\n",
        "                                stmt\n",
        "                                if(cond):\n",
        "                                    stmt1\n",
        "                            else:\n",
        "                                if(cond):\n",
        "                                    stmt3\n",
        "                                else:\n",
        "                                    stmt4"
      ]
    },
    {
      "cell_type": "markdown",
      "metadata": {
        "heading_collapsed": true,
        "id": "osB-_kdfuChz",
        "colab_type": "text"
      },
      "source": [
        "### Task2: Write a proram that accept a lowercase/uppercase character from the user and check whether the character is a vowel or consonant."
      ]
    },
    {
      "cell_type": "code",
      "metadata": {
        "hidden": true,
        "trusted": false,
        "id": "ER1s9HLLuCh1",
        "colab_type": "code",
        "outputId": "c0c44367-caf6-4671-8d18-ebbd4775ebf2",
        "colab": {
          "base_uri": "https://localhost:8080/",
          "height": 51
        }
      },
      "source": [
        "# write your code after this line\n",
        "ch=input(\"Enter a letter \")\n",
        "if(ch == 'a' or ch == 'e' or ch == 'i' or ch == 'o' or ch == 'u' or ch == 'A'\n",
        "       or ch == 'E' or ch == 'I' or ch == 'O' or ch == 'U'):\n",
        "  print(\"Character entered is Vowel \")\n",
        "else:\n",
        "  print(\"Character is consonant \")\n"
      ],
      "execution_count": 4,
      "outputs": [
        {
          "output_type": "stream",
          "text": [
            "Enter a letter f\n",
            "Character is consonant \n"
          ],
          "name": "stdout"
        }
      ]
    },
    {
      "cell_type": "markdown",
      "metadata": {
        "heading_collapsed": true,
        "id": "K78UkrbLuCh9",
        "colab_type": "text"
      },
      "source": [
        "### Task3: Write a program to check whether given character is a digit or a character in lowercase or uppercase alphabet. Hint: ASCII value of digit is between 48 to 58 and Lowercase characters in the range of 97 to122, uppercase is between 65 and 90)."
      ]
    },
    {
      "cell_type": "code",
      "metadata": {
        "hidden": true,
        "trusted": false,
        "id": "ECZGi0hruCh-",
        "colab_type": "code",
        "outputId": "49c36b3a-a8a4-4e6d-967c-3b9011e5a33d",
        "colab": {
          "base_uri": "https://localhost:8080/",
          "height": 51
        }
      },
      "source": [
        "# write your code after this line\n",
        "ch=input(\"Enter a digit(ASCII) or character\") \n",
        "if (ch>='48' and ch<='58'):\n",
        "  print(\"Its a digit\")\n",
        "if(ch>='97' and ch<='122'):\n",
        "  print(\"Character is lowercase\")\n",
        "if(ch>='65' and ch<='90'):\n",
        "  print(\"Character is uppercase\")"
      ],
      "execution_count": 5,
      "outputs": [
        {
          "output_type": "stream",
          "text": [
            "Enter a digit(ASCII) or character76\n",
            "Character is uppercase\n"
          ],
          "name": "stdout"
        }
      ]
    },
    {
      "cell_type": "markdown",
      "metadata": {
        "id": "4vS2xTXOuCiC",
        "colab_type": "text"
      },
      "source": [
        "### Repetition or loop\n",
        "- while loop\n",
        "- for loop"
      ]
    },
    {
      "cell_type": "markdown",
      "metadata": {
        "id": "10zY80T_uCiD",
        "colab_type": "text"
      },
      "source": [
        "#### While loop"
      ]
    },
    {
      "cell_type": "markdown",
      "metadata": {
        "id": "aLy4RdvpuCiE",
        "colab_type": "raw"
      },
      "source": [
        "initialization of loop variable\n",
        "while( condition ):\n",
        "    stmt 1\n",
        "    stmt 2\n",
        "    ...\n",
        "    update loop variable"
      ]
    },
    {
      "cell_type": "markdown",
      "metadata": {
        "id": "ZZJYEIcluCiF",
        "colab_type": "text"
      },
      "source": [
        "##### Task 4: Write a program in Python to print table of any number 'n' provided by user using while loop."
      ]
    },
    {
      "cell_type": "code",
      "metadata": {
        "trusted": false,
        "id": "TrTjzgI_uCiH",
        "colab_type": "code",
        "outputId": "d89182dd-a144-41a6-8b58-ac1753cde778",
        "colab": {
          "base_uri": "https://localhost:8080/",
          "height": 204
        }
      },
      "source": [
        "# write your code after this line\n",
        "n = int(input(\"Enter any number : \"))\n",
        "for i in range(1, 11):\n",
        "  print(n,\" x \", i, \" = \", n*i)"
      ],
      "execution_count": 6,
      "outputs": [
        {
          "output_type": "stream",
          "text": [
            "Enter any number : 5\n",
            "5  x  1  =  5\n",
            "5  x  2  =  10\n",
            "5  x  3  =  15\n",
            "5  x  4  =  20\n",
            "5  x  5  =  25\n",
            "5  x  6  =  30\n",
            "5  x  7  =  35\n",
            "5  x  8  =  40\n",
            "5  x  9  =  45\n",
            "5  x  10  =  50\n"
          ],
          "name": "stdout"
        }
      ]
    },
    {
      "cell_type": "markdown",
      "metadata": {
        "id": "ae_w6RcmuCiM",
        "colab_type": "text"
      },
      "source": [
        "##### Task 5: Write a program in Python to evaluate the following series using while loop:\n",
        "    \n",
        "    1! + 2! + 3! + 4! ...+ n!\n",
        "hint: use math.factorial(n) function to calculate factorial of number n."
      ]
    },
    {
      "cell_type": "code",
      "metadata": {
        "id": "H-elUTwK0EDf",
        "colab_type": "code",
        "outputId": "0a661981-10ed-4950-8bb1-57042ce17462",
        "colab": {
          "base_uri": "https://localhost:8080/",
          "height": 51
        }
      },
      "source": [
        "import math\n",
        "Sum=0\n",
        "j=int(input(\"enter any number:\"))\n",
        "for i in range(1,j+1):\n",
        "  fact=math.factorial(i)\n",
        "  Sum += fact\n",
        "  \n",
        "print(\"sum of series is:\", Sum)"
      ],
      "execution_count": 7,
      "outputs": [
        {
          "output_type": "stream",
          "text": [
            "enter any number:7\n",
            "sum of series is: 5913\n"
          ],
          "name": "stdout"
        }
      ]
    },
    {
      "cell_type": "code",
      "metadata": {
        "trusted": false,
        "id": "Zrgd8MX1uCiO",
        "colab_type": "code",
        "outputId": "8956de69-b574-4f08-f247-534a7f97f4d9",
        "colab": {
          "base_uri": "https://localhost:8080/",
          "height": 51
        }
      },
      "source": [
        "# write your code after this line\n",
        "n, fact = int(input(\"Enter the number : \")), 1\n",
        "for i in range(1,n+1):\n",
        "  fact *= i\n",
        "print(\"Factorial        :\",fact)"
      ],
      "execution_count": 8,
      "outputs": [
        {
          "output_type": "stream",
          "text": [
            "Enter the number : 4\n",
            "Factorial        : 24\n"
          ],
          "name": "stdout"
        }
      ]
    },
    {
      "cell_type": "markdown",
      "metadata": {
        "id": "eeXNvxy8uCiU",
        "colab_type": "text"
      },
      "source": [
        "##### Task 6: Write a program in Python to enter the numbers till the user wants and at the end it should display the maximum number entered using while loop."
      ]
    },
    {
      "cell_type": "code",
      "metadata": {
        "trusted": false,
        "id": "Mwecmh1ZuCiV",
        "colab_type": "code",
        "outputId": "958edf4a-dcef-484a-d082-d14dcb7e9ce8",
        "colab": {
          "base_uri": "https://localhost:8080/",
          "height": 102
        }
      },
      "source": [
        "# write your code after this line\n",
        "check, l = 'Y', []\n",
        "while(check == 'Y' or check == 'y'):\n",
        "  n = int(input(\"Enter the number : \"))\n",
        "  l.append(n)\n",
        "  check = input(\"Do you want to enter more numbers??(Y/N) : \")\n",
        "  if check == 'N' or check == 'n':\n",
        "    break\n",
        "\n",
        "print(\"Maximum number :\", max(l))"
      ],
      "execution_count": 9,
      "outputs": [
        {
          "output_type": "stream",
          "text": [
            "Enter the number : 8\n",
            "Do you want to enter more numbers??(Y/N) : y\n",
            "Enter the number : 9\n",
            "Do you want to enter more numbers??(Y/N) : n\n",
            "Maximum number : 9\n"
          ],
          "name": "stdout"
        }
      ]
    },
    {
      "cell_type": "markdown",
      "metadata": {
        "id": "Ui3_CBMguCia",
        "colab_type": "raw"
      },
      "source": [
        "for iterable_var_name in range(terminating_value):\n",
        "    stmt 1\n",
        "    stmt 2\n",
        "    ...\n",
        "    \n",
        " for iterable_var_name in range(initial_value,terminating_value):\n",
        "    stmt 1\n",
        "    stmt 2\n",
        "    ...\n",
        "    \n",
        " for iterable_var_name in range(initial_value,terminating_value,updation):\n",
        "    stmt 1\n",
        "    stmt 2\n",
        "    ..."
      ]
    },
    {
      "cell_type": "markdown",
      "metadata": {
        "id": "tPc22JJGuCif",
        "colab_type": "text"
      },
      "source": [
        "##### Task 7:Write a program in Python to print all numbers from 0 to 9 except 3 and 6 using a for loop. \n"
      ]
    },
    {
      "cell_type": "code",
      "metadata": {
        "trusted": false,
        "id": "y1ikCkQvuCig",
        "colab_type": "code",
        "outputId": "4b6c5f5c-8eea-453a-fd59-63369af7226c",
        "colab": {
          "base_uri": "https://localhost:8080/",
          "height": 153
        }
      },
      "source": [
        "# write your code after this line\n",
        "for i in range(0, 10):\n",
        "  if i == 3 or i == 6:\n",
        "    continue\n",
        "  else:\n",
        "    print(\"Number :\", i)"
      ],
      "execution_count": 0,
      "outputs": [
        {
          "output_type": "stream",
          "text": [
            "Number : 0\n",
            "Number : 1\n",
            "Number : 2\n",
            "Number : 4\n",
            "Number : 5\n",
            "Number : 7\n",
            "Number : 8\n",
            "Number : 9\n"
          ],
          "name": "stdout"
        }
      ]
    },
    {
      "cell_type": "markdown",
      "metadata": {
        "id": "e1v7v-l6uCik",
        "colab_type": "text"
      },
      "source": [
        "#### 2 Write a program in Python to get 10 numbers from user using a for loop. The program should print the count of positive numbers, negative numbers and zeroes entered by the user."
      ]
    },
    {
      "cell_type": "code",
      "metadata": {
        "trusted": false,
        "id": "ivTl5evQuCiq",
        "colab_type": "code",
        "outputId": "7f057e7e-6fa7-4589-f0a6-e99c4ad741fc",
        "colab": {
          "base_uri": "https://localhost:8080/",
          "height": 238
        }
      },
      "source": [
        "pos, neg, zero = 0, 0, 0\n",
        "for i in range(10):\n",
        "  n = int(input(\"Enter the number : \"))\n",
        "  if n == 0:\n",
        "    zero += 1\n",
        "  elif n < 0:\n",
        "    neg += 1\n",
        "  else:\n",
        "    pos += 1\n",
        "print(\"Negative :\", neg, \"\\nPositive :\", pos, \"\\nZero :\", zero)"
      ],
      "execution_count": 11,
      "outputs": [
        {
          "output_type": "stream",
          "text": [
            "Enter the number : 6\n",
            "Enter the number : 5\n",
            "Enter the number : 3\n",
            "Enter the number : 4\n",
            "Enter the number : 2\n",
            "Enter the number : 1\n",
            "Enter the number : 7\n",
            "Enter the number : 8\n",
            "Enter the number : 0\n",
            "Enter the number : -2\n",
            "Negative : 1 \n",
            "Positive : 8 \n",
            "Zero : 1\n"
          ],
          "name": "stdout"
        }
      ]
    }
  ]
}