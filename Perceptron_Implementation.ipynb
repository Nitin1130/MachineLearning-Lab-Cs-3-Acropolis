{
  "nbformat": 4,
  "nbformat_minor": 0,
  "metadata": {
    "colab": {
      "name": "Perceptron Implementation",
      "provenance": [],
      "collapsed_sections": []
    },
    "kernelspec": {
      "name": "python3",
      "display_name": "Python 3"
    }
  },
  "cells": [
    {
      "cell_type": "code",
      "metadata": {
        "id": "6N1BHQGhzbQy",
        "colab_type": "code",
        "colab": {}
      },
      "source": [
        "class Perceptron(object):\n",
        "    \"\"\"Implements a perceptron network\"\"\"\n",
        "    def __init__(self, input_size, lr=1, epochs=100):\n",
        "        self.W = np.zeros(input_size+1)\n",
        "        # add one for bias\n",
        "        self.epochs = epochs\n",
        "        self.lr = lr\n",
        "        self.loss_lst=[]\n",
        "    def activation_fn(self, x):\n",
        "        #return (x >= 0).astype(np.float32)\n",
        "        return 1 if x >= 0 else 0\n",
        " \n",
        "    def predict(self, x):\n",
        "        z = self.W.T.dot(x)\n",
        "        \n",
        "        \n",
        "        a = self.activation_fn(z)\n",
        "        return a\n",
        " \n",
        "    def fit(self, X, d):\n",
        "        for _ in range(self.epochs):\n",
        "          L=0\n",
        "          for i in range(d.shape[0]):\n",
        "            x = np.insert(X[i], 0, 1)\n",
        "            y = self.predict(x)\n",
        "            e = d[i] - y\n",
        "            L==e**2\n",
        "            self.W = self.W + self.lr * e * x\n",
        "          L=L/4\n",
        "          self.loss_lst.append(L)"
      ],
      "execution_count": 0,
      "outputs": []
    },
    {
      "cell_type": "code",
      "metadata": {
        "id": "hig29zyX0ueA",
        "colab_type": "code",
        "outputId": "5fe3e1e7-1912-4e26-89e3-609953cd6310",
        "colab": {
          "base_uri": "https://localhost:8080/",
          "height": 36
        }
      },
      "source": [
        "import numpy as np\n",
        "if __name__=='__main__':\n",
        "  X=np.array([[0,0],[0,1],[1,0],[1,1]])\n",
        "  d=np.array([0,1,1,1])\n",
        "  \n",
        "  perceptron=Perceptron(input_size=2)\n",
        "  \n",
        "  perceptron.fit(X,d)\n",
        "  print(perceptron.W)"
      ],
      "execution_count": 4,
      "outputs": [
        {
          "output_type": "stream",
          "text": [
            "[-1.  1.  1.]\n"
          ],
          "name": "stdout"
        }
      ]
    },
    {
      "cell_type": "code",
      "metadata": {
        "id": "sWcG2xgD9Esg",
        "colab_type": "code",
        "outputId": "e21dbaaf-d2b9-4be5-ec29-781a5b58248f",
        "colab": {
          "base_uri": "https://localhost:8080/",
          "height": 279
        }
      },
      "source": [
        "import matplotlib.pyplot as plt\n",
        "x=[int(x)for x in range(100)]\n",
        "y=perceptron.loss_lst\n",
        "plt.plot(x,y)\n",
        "plt.xlabel(\"iterations\")\n",
        "plt.ylabel(\"loss\")\n",
        "plt.show()"
      ],
      "execution_count": 5,
      "outputs": [
        {
          "output_type": "display_data",
          "data": {
            "image/png": "[encoded data removed]",
            "text/plain": [
              "<Figure size 432x288 with 1 Axes>"
            ]
          },
          "metadata": {
            "tags": []
          }
        }
      ]
    }
  ]
}